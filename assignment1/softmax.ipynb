{
 "cells": [
  {
   "cell_type": "markdown",
   "metadata": {},
   "source": [
    "# Softmax exercise\n",
    "\n",
    "*Complete and hand in this completed worksheet (including its outputs and any supporting code outside of the worksheet) with your assignment submission. For more details see the [assignments page](http://vision.stanford.edu/teaching/cs231n/assignments.html) on the course website.*\n",
    "\n",
    "This exercise is analogous to the SVM exercise. You will:\n",
    "\n",
    "- implement a fully-vectorized **loss function** for the Softmax classifier\n",
    "- implement the fully-vectorized expression for its **analytic gradient**\n",
    "- **check your implementation** with numerical gradient\n",
    "- use a validation set to **tune the learning rate and regularization** strength\n",
    "- **optimize** the loss function with **SGD**\n",
    "- **visualize** the final learned weights\n"
   ]
  },
  {
   "cell_type": "code",
   "execution_count": 1,
   "metadata": {
    "collapsed": true
   },
   "outputs": [],
   "source": [
    "import random\n",
    "import numpy as np\n",
    "from cs231n.data_utils import load_CIFAR10\n",
    "import matplotlib.pyplot as plt\n",
    "\n",
    "from __future__ import print_function\n",
    "\n",
    "%matplotlib inline\n",
    "plt.rcParams['figure.figsize'] = (10.0, 8.0) # set default size of plots\n",
    "plt.rcParams['image.interpolation'] = 'nearest'\n",
    "plt.rcParams['image.cmap'] = 'gray'\n",
    "\n",
    "# for auto-reloading extenrnal modules\n",
    "# see http://stackoverflow.com/questions/1907993/autoreload-of-modules-in-ipython\n",
    "%load_ext autoreload\n",
    "%autoreload 2"
   ]
  },
  {
   "cell_type": "code",
   "execution_count": 2,
   "metadata": {},
   "outputs": [
    {
     "name": "stdout",
     "output_type": "stream",
     "text": [
      "Train data shape:  (49000, 3073)\n",
      "Train labels shape:  (49000,)\n",
      "Validation data shape:  (1000, 3073)\n",
      "Validation labels shape:  (1000,)\n",
      "Test data shape:  (1000, 3073)\n",
      "Test labels shape:  (1000,)\n",
      "dev data shape:  (500, 3073)\n",
      "dev labels shape:  (500,)\n"
     ]
    }
   ],
   "source": [
    "def get_CIFAR10_data(num_training=49000, num_validation=1000, num_test=1000, num_dev=500):\n",
    "    \"\"\"\n",
    "    Load the CIFAR-10 dataset from disk and perform preprocessing to prepare\n",
    "    it for the linear classifier. These are the same steps as we used for the\n",
    "    SVM, but condensed to a single function.  \n",
    "    \"\"\"\n",
    "    # Load the raw CIFAR-10 data\n",
    "    cifar10_dir = 'cs231n/datasets/cifar-10-batches-py'\n",
    "    X_train, y_train, X_test, y_test = load_CIFAR10(cifar10_dir)\n",
    "    \n",
    "    # subsample the data\n",
    "    mask = list(range(num_training, num_training + num_validation))\n",
    "    X_val = X_train[mask]\n",
    "    y_val = y_train[mask]\n",
    "    mask = list(range(num_training))\n",
    "    X_train = X_train[mask]\n",
    "    y_train = y_train[mask]\n",
    "    mask = list(range(num_test))\n",
    "    X_test = X_test[mask]\n",
    "    y_test = y_test[mask]\n",
    "    mask = np.random.choice(num_training, num_dev, replace=False)\n",
    "    X_dev = X_train[mask]\n",
    "    y_dev = y_train[mask]\n",
    "    \n",
    "    # Preprocessing: reshape the image data into rows\n",
    "    X_train = np.reshape(X_train, (X_train.shape[0], -1))\n",
    "    X_val = np.reshape(X_val, (X_val.shape[0], -1))\n",
    "    X_test = np.reshape(X_test, (X_test.shape[0], -1))\n",
    "    X_dev = np.reshape(X_dev, (X_dev.shape[0], -1))\n",
    "    \n",
    "    # Normalize the data: subtract the mean image\n",
    "    mean_image = np.mean(X_train, axis = 0)\n",
    "    X_train -= mean_image\n",
    "    X_val -= mean_image\n",
    "    X_test -= mean_image\n",
    "    X_dev -= mean_image\n",
    "    \n",
    "    # add bias dimension and transform into columns\n",
    "    X_train = np.hstack([X_train, np.ones((X_train.shape[0], 1))])\n",
    "    X_val = np.hstack([X_val, np.ones((X_val.shape[0], 1))])\n",
    "    X_test = np.hstack([X_test, np.ones((X_test.shape[0], 1))])\n",
    "    X_dev = np.hstack([X_dev, np.ones((X_dev.shape[0], 1))])\n",
    "    \n",
    "    return X_train, y_train, X_val, y_val, X_test, y_test, X_dev, y_dev\n",
    "\n",
    "\n",
    "# Invoke the above function to get our data.\n",
    "X_train, y_train, X_val, y_val, X_test, y_test, X_dev, y_dev = get_CIFAR10_data()\n",
    "print('Train data shape: ', X_train.shape)\n",
    "print('Train labels shape: ', y_train.shape)\n",
    "print('Validation data shape: ', X_val.shape)\n",
    "print('Validation labels shape: ', y_val.shape)\n",
    "print('Test data shape: ', X_test.shape)\n",
    "print('Test labels shape: ', y_test.shape)\n",
    "print('dev data shape: ', X_dev.shape)\n",
    "print('dev labels shape: ', y_dev.shape)"
   ]
  },
  {
   "cell_type": "markdown",
   "metadata": {},
   "source": [
    "## Softmax Classifier\n",
    "\n",
    "Your code for this section will all be written inside **cs231n/classifiers/softmax.py**. \n"
   ]
  },
  {
   "cell_type": "code",
   "execution_count": 12,
   "metadata": {},
   "outputs": [
    {
     "name": "stdout",
     "output_type": "stream",
     "text": [
      "loss: 2.392613\n",
      "sanity check: 2.302585\n"
     ]
    }
   ],
   "source": [
    "# First implement the naive softmax loss function with nested loops.\n",
    "# Open the file cs231n/classifiers/softmax.py and implement the\n",
    "# softmax_loss_naive function.\n",
    "\n",
    "from cs231n.classifiers.softmax import softmax_loss_naive\n",
    "import time\n",
    "\n",
    "# Generate a random softmax weight matrix and use it to compute the loss.\n",
    "W = np.random.randn(3073, 10) * 0.0001\n",
    "loss, grad = softmax_loss_naive(W, X_dev, y_dev, 0.0)\n",
    "# As a rough sanity check, our loss should be something close to -log(0.1).\n",
    "print('loss: %f' % loss)\n",
    "print('sanity check: %f' % (-np.log(0.1)))"
   ]
  },
  {
   "cell_type": "markdown",
   "metadata": {},
   "source": [
    "## Inline Question 1:\n",
    "Why do we expect our loss to be close to -log(0.1)? Explain briefly.**\n",
    "\n",
    "**Your answer:** *Fill this in*\n"
   ]
  },
  {
   "cell_type": "code",
   "execution_count": 18,
   "metadata": {},
   "outputs": [
    {
     "name": "stdout",
     "output_type": "stream",
     "text": [
      "numerical: 2.550290 analytic: 2.550290, relative error: 6.519985e-10\n",
      "numerical: 0.576642 analytic: 0.576642, relative error: 2.587166e-08\n",
      "numerical: -0.298571 analytic: -0.298571, relative error: 9.365578e-09\n",
      "numerical: -1.516011 analytic: -1.516011, relative error: 2.052057e-08\n",
      "numerical: -1.873209 analytic: -1.873209, relative error: 4.210700e-09\n",
      "numerical: -1.260268 analytic: -1.260268, relative error: 2.162407e-08\n",
      "numerical: 0.585415 analytic: 0.585415, relative error: 1.368865e-07\n",
      "numerical: -3.100181 analytic: -3.100181, relative error: 1.279092e-08\n",
      "numerical: 1.634120 analytic: 1.634120, relative error: 2.735323e-08\n",
      "numerical: 0.569153 analytic: 0.569153, relative error: 2.397897e-10\n",
      "numerical: 1.632872 analytic: 1.632872, relative error: 1.046613e-08\n",
      "numerical: -0.198578 analytic: -0.198578, relative error: 6.974605e-08\n",
      "numerical: 0.666405 analytic: 0.666405, relative error: 1.021172e-08\n",
      "numerical: 4.439055 analytic: 4.439055, relative error: 4.233198e-09\n",
      "numerical: 0.443034 analytic: 0.443034, relative error: 9.099096e-09\n",
      "numerical: -2.792736 analytic: -2.792736, relative error: 1.535183e-08\n",
      "numerical: -0.763824 analytic: -0.763824, relative error: 1.517046e-08\n",
      "numerical: 0.016500 analytic: 0.016500, relative error: 3.200473e-07\n",
      "numerical: 4.994732 analytic: 4.994732, relative error: 2.043507e-09\n",
      "numerical: 1.236083 analytic: 1.236083, relative error: 4.968879e-08\n"
     ]
    }
   ],
   "source": [
    "# Complete the implementation of softmax_loss_naive and implement a (naive)\n",
    "# version of the gradient that uses nested loops.\n",
    "loss, grad = softmax_loss_naive(W, X_dev, y_dev, 0.0)\n",
    "\n",
    "# As we did for the SVM, use numeric gradient checking as a debugging tool.\n",
    "# The numeric gradient should be close to the analytic gradient.\n",
    "from cs231n.gradient_check import grad_check_sparse\n",
    "f = lambda w: softmax_loss_naive(w, X_dev, y_dev, 0.0)[0]\n",
    "grad_numerical = grad_check_sparse(f, W, grad, 10)\n",
    "\n",
    "# similar to SVM case, do another gradient check with regularization\n",
    "loss, grad = softmax_loss_naive(W, X_dev, y_dev, 5e1)\n",
    "f = lambda w: softmax_loss_naive(w, X_dev, y_dev, 5e1)[0]\n",
    "grad_numerical = grad_check_sparse(f, W, grad, 10)"
   ]
  },
  {
   "cell_type": "code",
   "execution_count": 27,
   "metadata": {},
   "outputs": [
    {
     "name": "stdout",
     "output_type": "stream",
     "text": [
      "[[1 2 3]\n",
      " [4 5 6]]\n",
      "[ 6 15]\n"
     ]
    }
   ],
   "source": [
    "a = np.array([[1,2,3],[4,5,6]])\n",
    "print (a)\n",
    "print (np.sum(a,axis=1))"
   ]
  },
  {
   "cell_type": "code",
   "execution_count": 32,
   "metadata": {},
   "outputs": [
    {
     "name": "stdout",
     "output_type": "stream",
     "text": [
      "naive loss: 2.392613e+00 computed in 0.328019s\n",
      "vectorized loss: 2.392613e+00 computed in 0.010001s\n",
      "Loss difference: 0.000000\n",
      "Gradient difference: 0.000000\n"
     ]
    }
   ],
   "source": [
    "# Now that we have a naive implementation of the softmax loss function and its gradient,\n",
    "# implement a vectorized version in softmax_loss_vectorized.\n",
    "# The two versions should compute the same results, but the vectorized version should be\n",
    "# much faster.\n",
    "tic = time.time()\n",
    "loss_naive, grad_naive = softmax_loss_naive(W, X_dev, y_dev, 0.000005)\n",
    "toc = time.time()\n",
    "print('naive loss: %e computed in %fs' % (loss_naive, toc - tic))\n",
    "\n",
    "from cs231n.classifiers.softmax import softmax_loss_vectorized\n",
    "tic = time.time()\n",
    "loss_vectorized, grad_vectorized = softmax_loss_vectorized(W, X_dev, y_dev, 0.000005)\n",
    "toc = time.time()\n",
    "print('vectorized loss: %e computed in %fs' % (loss_vectorized, toc - tic))\n",
    "\n",
    "# As we did for the SVM, we use the Frobenius norm to compare the two versions\n",
    "# of the gradient.\n",
    "grad_difference = np.linalg.norm(grad_naive - grad_vectorized, ord='fro')\n",
    "print('Loss difference: %f' % np.abs(loss_naive - loss_vectorized))\n",
    "print('Gradient difference: %f' % grad_difference)"
   ]
  },
  {
   "cell_type": "code",
   "execution_count": 35,
   "metadata": {},
   "outputs": [
    {
     "name": "stdout",
     "output_type": "stream",
     "text": [
      "iteration 0 / 2000: loss 390.718213\n",
      "iteration 100 / 2000: loss 236.643266\n",
      "iteration 200 / 2000: loss 143.870216\n",
      "iteration 300 / 2000: loss 87.655176\n",
      "iteration 400 / 2000: loss 53.830813\n",
      "iteration 500 / 2000: loss 33.403479\n",
      "iteration 600 / 2000: loss 20.947823\n",
      "iteration 700 / 2000: loss 13.412499\n",
      "iteration 800 / 2000: loss 8.939189\n",
      "iteration 900 / 2000: loss 6.135389\n",
      "iteration 1000 / 2000: loss 4.543036\n",
      "iteration 1100 / 2000: loss 3.606320\n",
      "iteration 1200 / 2000: loss 2.963842\n",
      "iteration 1300 / 2000: loss 2.594284\n",
      "iteration 1400 / 2000: loss 2.360251\n",
      "iteration 1500 / 2000: loss 2.246398\n",
      "iteration 1600 / 2000: loss 2.125304\n",
      "iteration 1700 / 2000: loss 2.090239\n",
      "iteration 1800 / 2000: loss 2.114330\n",
      "iteration 1900 / 2000: loss 2.073751\n",
      "iteration 0 / 2000: loss 2.131272\n",
      "iteration 100 / 2000: loss 2.157703\n",
      "iteration 200 / 2000: loss 2.111146\n",
      "iteration 300 / 2000: loss 2.090513\n",
      "iteration 400 / 2000: loss 2.138636\n",
      "iteration 500 / 2000: loss 2.069708\n",
      "iteration 600 / 2000: loss 2.099444\n",
      "iteration 700 / 2000: loss 2.108521\n",
      "iteration 800 / 2000: loss 2.066345\n",
      "iteration 900 / 2000: loss 2.101412\n",
      "iteration 1000 / 2000: loss 2.111485\n",
      "iteration 1100 / 2000: loss 2.120830\n",
      "iteration 1200 / 2000: loss 2.124119\n",
      "iteration 1300 / 2000: loss 2.143900\n",
      "iteration 1400 / 2000: loss 2.001165\n",
      "iteration 1500 / 2000: loss 2.057555\n",
      "iteration 1600 / 2000: loss 2.075460\n",
      "iteration 1700 / 2000: loss 2.121109\n",
      "iteration 1800 / 2000: loss 2.109627\n",
      "iteration 1900 / 2000: loss 2.051724\n",
      "iteration 0 / 2000: loss 2.052785\n",
      "iteration 100 / 2000: loss 1.978806\n",
      "iteration 200 / 2000: loss 1.986717\n",
      "iteration 300 / 2000: loss 2.040751\n",
      "iteration 400 / 2000: loss 2.032254\n",
      "iteration 500 / 2000: loss 2.082582\n",
      "iteration 600 / 2000: loss 2.042519\n",
      "iteration 700 / 2000: loss 2.018397\n",
      "iteration 800 / 2000: loss 2.037540\n",
      "iteration 900 / 2000: loss 2.061938\n",
      "iteration 1000 / 2000: loss 1.998848\n",
      "iteration 1100 / 2000: loss 2.010043\n",
      "iteration 1200 / 2000: loss 1.978945\n",
      "iteration 1300 / 2000: loss 1.983131\n",
      "iteration 1400 / 2000: loss 2.040125\n",
      "iteration 1500 / 2000: loss 2.054843\n",
      "iteration 1600 / 2000: loss 1.988670\n",
      "iteration 1700 / 2000: loss 2.066603\n",
      "iteration 1800 / 2000: loss 2.061807\n",
      "iteration 1900 / 2000: loss 1.976324\n",
      "iteration 0 / 2000: loss 2.089966\n",
      "iteration 100 / 2000: loss 2.110654\n",
      "iteration 200 / 2000: loss 2.183089\n",
      "iteration 300 / 2000: loss 2.104853\n",
      "iteration 400 / 2000: loss 2.085799\n",
      "iteration 500 / 2000: loss 2.076484\n",
      "iteration 600 / 2000: loss 2.114431\n",
      "iteration 700 / 2000: loss 2.172965\n",
      "iteration 800 / 2000: loss 2.041391\n",
      "iteration 900 / 2000: loss 2.080910\n",
      "iteration 1000 / 2000: loss 2.023985\n",
      "iteration 1100 / 2000: loss 2.132336\n",
      "iteration 1200 / 2000: loss 2.105142\n",
      "iteration 1300 / 2000: loss 2.070667\n",
      "iteration 1400 / 2000: loss 2.133801\n",
      "iteration 1500 / 2000: loss 2.077701\n",
      "iteration 1600 / 2000: loss 2.172251\n",
      "iteration 1700 / 2000: loss 2.098167\n",
      "iteration 1800 / 2000: loss 2.080221\n",
      "iteration 1900 / 2000: loss 2.145812\n",
      "lr 1.000000e-07 reg 2.500000e+04 train accuracy: 0.347816 val accuracy: 0.360000\n",
      "lr 1.000000e-07 reg 5.000000e+04 train accuracy: 0.326102 val accuracy: 0.339000\n",
      "lr 5.000000e-07 reg 2.500000e+04 train accuracy: 0.349776 val accuracy: 0.362000\n",
      "lr 5.000000e-07 reg 5.000000e+04 train accuracy: 0.330143 val accuracy: 0.339000\n",
      "best validation accuracy achieved during cross-validation: 0.362000\n"
     ]
    }
   ],
   "source": [
    "# Use the validation set to tune hyperparameters (regularization strength and\n",
    "# learning rate). You should experiment with different ranges for the learning\n",
    "# rates and regularization strengths; if you are careful you should be able to\n",
    "# get a classification accuracy of over 0.35 on the validation set.\n",
    "from cs231n.classifiers import Softmax\n",
    "results = {}\n",
    "best_val = -1\n",
    "best_softmax = None\n",
    "learning_rates = [1e-7, 5e-7]\n",
    "regularization_strengths = [2.5e4, 5e4]\n",
    "\n",
    "################################################################################\n",
    "# TODO:                                                                        #\n",
    "# Use the validation set to set the learning rate and regularization strength. #\n",
    "# This should be identical to the validation that you did for the SVM; save    #\n",
    "# the best trained softmax classifer in best_softmax.                          #\n",
    "################################################################################\n",
    "pass\n",
    "softmax = Softmax()\n",
    "for lr in learning_rates:\n",
    "    for rs in regularization_strengths:\n",
    "        loss_hist = softmax.train(X_train, y_train, learning_rate=lr, reg=rs,\n",
    "                        num_iters=2000, verbose=True)\n",
    "        y_train_pred = softmax.predict(X_train)\n",
    "        train_acc = np.mean(y_train == y_train_pred)\n",
    "        y_val_pred = softmax.predict(X_val)\n",
    "        val_acc = np.mean(y_val == y_val_pred)\n",
    "        if val_acc > best_val:\n",
    "            best_val = val_acc\n",
    "            best_softmax = softmax\n",
    "        results[(lr,rs)] = (train_acc, val_acc)\n",
    "################################################################################\n",
    "#                              END OF YOUR CODE                                #\n",
    "################################################################################\n",
    "    \n",
    "# Print out results.\n",
    "for lr, reg in sorted(results):\n",
    "    train_accuracy, val_accuracy = results[(lr, reg)]\n",
    "    print('lr %e reg %e train accuracy: %f val accuracy: %f' % (\n",
    "                lr, reg, train_accuracy, val_accuracy))\n",
    "    \n",
    "print('best validation accuracy achieved during cross-validation: %f' % best_val)"
   ]
  },
  {
   "cell_type": "code",
   "execution_count": 36,
   "metadata": {},
   "outputs": [
    {
     "name": "stdout",
     "output_type": "stream",
     "text": [
      "softmax on raw pixels final test set accuracy: 0.329000\n"
     ]
    }
   ],
   "source": [
    "# evaluate on test set\n",
    "# Evaluate the best softmax on test set\n",
    "y_test_pred = best_softmax.predict(X_test)\n",
    "test_accuracy = np.mean(y_test == y_test_pred)\n",
    "print('softmax on raw pixels final test set accuracy: %f' % (test_accuracy, ))"
   ]
  },
  {
   "cell_type": "code",
   "execution_count": 37,
   "metadata": {},
   "outputs": [
    {
     "data": {
      "image/png": "[encoded data removed]",
      "text/plain": [
       "<matplotlib.figure.Figure at 0x9f3bd68>"
      ]
     },
     "metadata": {},
     "output_type": "display_data"
    }
   ],
   "source": [
    "# Visualize the learned weights for each class\n",
    "w = best_softmax.W[:-1,:] # strip out the bias\n",
    "w = w.reshape(32, 32, 3, 10)\n",
    "\n",
    "w_min, w_max = np.min(w), np.max(w)\n",
    "\n",
    "classes = ['plane', 'car', 'bird', 'cat', 'deer', 'dog', 'frog', 'horse', 'ship', 'truck']\n",
    "for i in range(10):\n",
    "    plt.subplot(2, 5, i + 1)\n",
    "    \n",
    "    # Rescale the weights to be between 0 and 255\n",
    "    wimg = 255.0 * (w[:, :, :, i].squeeze() - w_min) / (w_max - w_min)\n",
    "    plt.imshow(wimg.astype('uint8'))\n",
    "    plt.axis('off')\n",
    "    plt.title(classes[i])"
   ]
  },
  {
   "cell_type": "code",
   "execution_count": null,
   "metadata": {
    "collapsed": true
   },
   "outputs": [],
   "source": []
  }
 ],
 "metadata": {
  "kernelspec": {
   "display_name": "Python 3",
   "language": "python",
   "name": "python3"
  },
  "language_info": {
   "codemirror_mode": {
    "name": "ipython",
    "version": 3
   },
   "file_extension": ".py",
   "mimetype": "text/x-python",
   "name": "python",
   "nbconvert_exporter": "python",
   "pygments_lexer": "ipython3",
   "version": "3.6.3"
  }
 },
 "nbformat": 4,
 "nbformat_minor": 1
}
